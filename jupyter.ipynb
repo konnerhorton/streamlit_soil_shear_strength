{
 "cells": [
  {
   "cell_type": "code",
   "execution_count": 33,
   "metadata": {},
   "outputs": [
    {
     "name": "stdout",
     "output_type": "stream",
     "text": [
      "[302, 448, 598]\n"
     ]
    },
    {
     "data": {
      "application/vnd.plotly.v1+json": {
       "config": {
        "plotlyServerURL": "https://plot.ly"
       },
       "data": [
        {
         "type": "scatter",
         "x": [
          0,
          69.92857142857144,
          139.8571428571429,
          209.78571428571433,
          279.7142857142858,
          349.6428571428572,
          419.57142857142867,
          489.5000000000001,
          559.4285714285716,
          629.357142857143,
          699.2857142857144,
          769.2142857142859,
          839.1428571428573,
          909.0714285714288,
          979.0000000000002,
          1048.9285714285716,
          1118.8571428571431,
          1188.7857142857147,
          1258.714285714286,
          1328.6428571428573,
          1398.571428571429,
          1468.5000000000005,
          1538.4285714285718,
          1608.3571428571431,
          1678.2857142857147,
          1748.2142857142862,
          1818.1428571428576,
          1888.071428571429,
          1958.0000000000005,
          2027.928571428572,
          2097.857142857143,
          2167.7857142857147,
          2237.7142857142862,
          2307.642857142858,
          2377.5714285714294,
          2447.5000000000005,
          2517.428571428572,
          2587.3571428571436,
          2657.2857142857147,
          2727.2142857142862,
          2797.142857142858,
          2867.0714285714294,
          2937.000000000001,
          3006.928571428572,
          3076.8571428571436,
          3146.785714285715,
          3216.7142857142862,
          3286.642857142858,
          3356.5714285714294,
          3426.5000000000005
         ],
         "y": [
          0,
          61.43375109064348,
          122.86750218128697,
          184.30125327193045,
          245.73500436257393,
          307.16875545321744,
          368.6025065438609,
          430.0362576345044,
          491.47000872514786,
          552.9037598157913,
          614.3375109064349,
          675.7712619970783,
          737.2050130877218,
          798.6387641783652,
          860.0725152690088,
          921.5062663596522,
          982.9400174502957,
          1044.3737685409394,
          1105.8075196315826,
          1167.241270722226,
          1228.6750218128698,
          1290.1087729035132,
          1351.5425239941567,
          1412.9762750848,
          1474.4100261754436,
          1535.8437772660873,
          1597.2775283567305,
          1658.711279447374,
          1720.1450305380176,
          1781.578781628661,
          1843.0125327193043,
          1904.4462838099478,
          1965.8800349005915,
          2027.3137859912351,
          2088.747537081879,
          2150.181288172522,
          2211.6150392631653,
          2273.048790353809,
          2334.482541444452,
          2395.9162925350956,
          2457.3500436257395,
          2518.783794716383,
          2580.2175458070265,
          2641.65129689767,
          2703.0850479883134,
          2764.518799078957,
          2825.9525501696,
          2887.3863012602437,
          2948.820052350887,
          3010.25380344153
         ]
        }
       ],
       "layout": {
        "margin": {
         "b": 20,
         "l": 20,
         "r": 20,
         "t": 40
        },
        "shapes": [
         {
          "fillcolor": "rgba(0,0,0,0)",
          "line": {
           "color": "black",
           "width": 2
          },
          "opacity": 1,
          "type": "circle",
          "x0": 302,
          "x1": 1409,
          "xref": "x",
          "y0": -553.5,
          "y1": 553.5,
          "yref": "y"
         },
         {
          "fillcolor": "rgba(0,0,0,0)",
          "line": {
           "color": "black",
           "width": 2
          },
          "opacity": 1,
          "type": "circle",
          "x0": 448,
          "x1": 2005,
          "xref": "x",
          "y0": -778.5,
          "y1": 778.5,
          "yref": "y"
         },
         {
          "fillcolor": "rgba(0,0,0,0)",
          "line": {
           "color": "black",
           "width": 2
          },
          "opacity": 1,
          "type": "circle",
          "x0": 598,
          "x1": 3115,
          "xref": "x",
          "y0": -1258.5,
          "y1": 1258.5,
          "yref": "y"
         }
        ],
        "template": {
         "data": {
          "bar": [
           {
            "error_x": {
             "color": "rgb(36,36,36)"
            },
            "error_y": {
             "color": "rgb(36,36,36)"
            },
            "marker": {
             "line": {
              "color": "white",
              "width": 0.5
             },
             "pattern": {
              "fillmode": "overlay",
              "size": 10,
              "solidity": 0.2
             }
            },
            "type": "bar"
           }
          ],
          "barpolar": [
           {
            "marker": {
             "line": {
              "color": "white",
              "width": 0.5
             },
             "pattern": {
              "fillmode": "overlay",
              "size": 10,
              "solidity": 0.2
             }
            },
            "type": "barpolar"
           }
          ],
          "carpet": [
           {
            "aaxis": {
             "endlinecolor": "rgb(36,36,36)",
             "gridcolor": "white",
             "linecolor": "white",
             "minorgridcolor": "white",
             "startlinecolor": "rgb(36,36,36)"
            },
            "baxis": {
             "endlinecolor": "rgb(36,36,36)",
             "gridcolor": "white",
             "linecolor": "white",
             "minorgridcolor": "white",
             "startlinecolor": "rgb(36,36,36)"
            },
            "type": "carpet"
           }
          ],
          "choropleth": [
           {
            "colorbar": {
             "outlinewidth": 1,
             "tickcolor": "rgb(36,36,36)",
             "ticks": "outside"
            },
            "type": "choropleth"
           }
          ],
          "contour": [
           {
            "colorbar": {
             "outlinewidth": 1,
             "tickcolor": "rgb(36,36,36)",
             "ticks": "outside"
            },
            "colorscale": [
             [
              0,
              "#440154"
             ],
             [
              0.1111111111111111,
              "#482878"
             ],
             [
              0.2222222222222222,
              "#3e4989"
             ],
             [
              0.3333333333333333,
              "#31688e"
             ],
             [
              0.4444444444444444,
              "#26828e"
             ],
             [
              0.5555555555555556,
              "#1f9e89"
             ],
             [
              0.6666666666666666,
              "#35b779"
             ],
             [
              0.7777777777777778,
              "#6ece58"
             ],
             [
              0.8888888888888888,
              "#b5de2b"
             ],
             [
              1,
              "#fde725"
             ]
            ],
            "type": "contour"
           }
          ],
          "contourcarpet": [
           {
            "colorbar": {
             "outlinewidth": 1,
             "tickcolor": "rgb(36,36,36)",
             "ticks": "outside"
            },
            "type": "contourcarpet"
           }
          ],
          "heatmap": [
           {
            "colorbar": {
             "outlinewidth": 1,
             "tickcolor": "rgb(36,36,36)",
             "ticks": "outside"
            },
            "colorscale": [
             [
              0,
              "#440154"
             ],
             [
              0.1111111111111111,
              "#482878"
             ],
             [
              0.2222222222222222,
              "#3e4989"
             ],
             [
              0.3333333333333333,
              "#31688e"
             ],
             [
              0.4444444444444444,
              "#26828e"
             ],
             [
              0.5555555555555556,
              "#1f9e89"
             ],
             [
              0.6666666666666666,
              "#35b779"
             ],
             [
              0.7777777777777778,
              "#6ece58"
             ],
             [
              0.8888888888888888,
              "#b5de2b"
             ],
             [
              1,
              "#fde725"
             ]
            ],
            "type": "heatmap"
           }
          ],
          "heatmapgl": [
           {
            "colorbar": {
             "outlinewidth": 1,
             "tickcolor": "rgb(36,36,36)",
             "ticks": "outside"
            },
            "colorscale": [
             [
              0,
              "#440154"
             ],
             [
              0.1111111111111111,
              "#482878"
             ],
             [
              0.2222222222222222,
              "#3e4989"
             ],
             [
              0.3333333333333333,
              "#31688e"
             ],
             [
              0.4444444444444444,
              "#26828e"
             ],
             [
              0.5555555555555556,
              "#1f9e89"
             ],
             [
              0.6666666666666666,
              "#35b779"
             ],
             [
              0.7777777777777778,
              "#6ece58"
             ],
             [
              0.8888888888888888,
              "#b5de2b"
             ],
             [
              1,
              "#fde725"
             ]
            ],
            "type": "heatmapgl"
           }
          ],
          "histogram": [
           {
            "marker": {
             "line": {
              "color": "white",
              "width": 0.6
             }
            },
            "type": "histogram"
           }
          ],
          "histogram2d": [
           {
            "colorbar": {
             "outlinewidth": 1,
             "tickcolor": "rgb(36,36,36)",
             "ticks": "outside"
            },
            "colorscale": [
             [
              0,
              "#440154"
             ],
             [
              0.1111111111111111,
              "#482878"
             ],
             [
              0.2222222222222222,
              "#3e4989"
             ],
             [
              0.3333333333333333,
              "#31688e"
             ],
             [
              0.4444444444444444,
              "#26828e"
             ],
             [
              0.5555555555555556,
              "#1f9e89"
             ],
             [
              0.6666666666666666,
              "#35b779"
             ],
             [
              0.7777777777777778,
              "#6ece58"
             ],
             [
              0.8888888888888888,
              "#b5de2b"
             ],
             [
              1,
              "#fde725"
             ]
            ],
            "type": "histogram2d"
           }
          ],
          "histogram2dcontour": [
           {
            "colorbar": {
             "outlinewidth": 1,
             "tickcolor": "rgb(36,36,36)",
             "ticks": "outside"
            },
            "colorscale": [
             [
              0,
              "#440154"
             ],
             [
              0.1111111111111111,
              "#482878"
             ],
             [
              0.2222222222222222,
              "#3e4989"
             ],
             [
              0.3333333333333333,
              "#31688e"
             ],
             [
              0.4444444444444444,
              "#26828e"
             ],
             [
              0.5555555555555556,
              "#1f9e89"
             ],
             [
              0.6666666666666666,
              "#35b779"
             ],
             [
              0.7777777777777778,
              "#6ece58"
             ],
             [
              0.8888888888888888,
              "#b5de2b"
             ],
             [
              1,
              "#fde725"
             ]
            ],
            "type": "histogram2dcontour"
           }
          ],
          "mesh3d": [
           {
            "colorbar": {
             "outlinewidth": 1,
             "tickcolor": "rgb(36,36,36)",
             "ticks": "outside"
            },
            "type": "mesh3d"
           }
          ],
          "parcoords": [
           {
            "line": {
             "colorbar": {
              "outlinewidth": 1,
              "tickcolor": "rgb(36,36,36)",
              "ticks": "outside"
             }
            },
            "type": "parcoords"
           }
          ],
          "pie": [
           {
            "automargin": true,
            "type": "pie"
           }
          ],
          "scatter": [
           {
            "fillpattern": {
             "fillmode": "overlay",
             "size": 10,
             "solidity": 0.2
            },
            "type": "scatter"
           }
          ],
          "scatter3d": [
           {
            "line": {
             "colorbar": {
              "outlinewidth": 1,
              "tickcolor": "rgb(36,36,36)",
              "ticks": "outside"
             }
            },
            "marker": {
             "colorbar": {
              "outlinewidth": 1,
              "tickcolor": "rgb(36,36,36)",
              "ticks": "outside"
             }
            },
            "type": "scatter3d"
           }
          ],
          "scattercarpet": [
           {
            "marker": {
             "colorbar": {
              "outlinewidth": 1,
              "tickcolor": "rgb(36,36,36)",
              "ticks": "outside"
             }
            },
            "type": "scattercarpet"
           }
          ],
          "scattergeo": [
           {
            "marker": {
             "colorbar": {
              "outlinewidth": 1,
              "tickcolor": "rgb(36,36,36)",
              "ticks": "outside"
             }
            },
            "type": "scattergeo"
           }
          ],
          "scattergl": [
           {
            "marker": {
             "colorbar": {
              "outlinewidth": 1,
              "tickcolor": "rgb(36,36,36)",
              "ticks": "outside"
             }
            },
            "type": "scattergl"
           }
          ],
          "scattermapbox": [
           {
            "marker": {
             "colorbar": {
              "outlinewidth": 1,
              "tickcolor": "rgb(36,36,36)",
              "ticks": "outside"
             }
            },
            "type": "scattermapbox"
           }
          ],
          "scatterpolar": [
           {
            "marker": {
             "colorbar": {
              "outlinewidth": 1,
              "tickcolor": "rgb(36,36,36)",
              "ticks": "outside"
             }
            },
            "type": "scatterpolar"
           }
          ],
          "scatterpolargl": [
           {
            "marker": {
             "colorbar": {
              "outlinewidth": 1,
              "tickcolor": "rgb(36,36,36)",
              "ticks": "outside"
             }
            },
            "type": "scatterpolargl"
           }
          ],
          "scatterternary": [
           {
            "marker": {
             "colorbar": {
              "outlinewidth": 1,
              "tickcolor": "rgb(36,36,36)",
              "ticks": "outside"
             }
            },
            "type": "scatterternary"
           }
          ],
          "surface": [
           {
            "colorbar": {
             "outlinewidth": 1,
             "tickcolor": "rgb(36,36,36)",
             "ticks": "outside"
            },
            "colorscale": [
             [
              0,
              "#440154"
             ],
             [
              0.1111111111111111,
              "#482878"
             ],
             [
              0.2222222222222222,
              "#3e4989"
             ],
             [
              0.3333333333333333,
              "#31688e"
             ],
             [
              0.4444444444444444,
              "#26828e"
             ],
             [
              0.5555555555555556,
              "#1f9e89"
             ],
             [
              0.6666666666666666,
              "#35b779"
             ],
             [
              0.7777777777777778,
              "#6ece58"
             ],
             [
              0.8888888888888888,
              "#b5de2b"
             ],
             [
              1,
              "#fde725"
             ]
            ],
            "type": "surface"
           }
          ],
          "table": [
           {
            "cells": {
             "fill": {
              "color": "rgb(237,237,237)"
             },
             "line": {
              "color": "white"
             }
            },
            "header": {
             "fill": {
              "color": "rgb(217,217,217)"
             },
             "line": {
              "color": "white"
             }
            },
            "type": "table"
           }
          ]
         },
         "layout": {
          "annotationdefaults": {
           "arrowhead": 0,
           "arrowwidth": 1
          },
          "autotypenumbers": "strict",
          "coloraxis": {
           "colorbar": {
            "outlinewidth": 1,
            "tickcolor": "rgb(36,36,36)",
            "ticks": "outside"
           }
          },
          "colorscale": {
           "diverging": [
            [
             0,
             "rgb(103,0,31)"
            ],
            [
             0.1,
             "rgb(178,24,43)"
            ],
            [
             0.2,
             "rgb(214,96,77)"
            ],
            [
             0.3,
             "rgb(244,165,130)"
            ],
            [
             0.4,
             "rgb(253,219,199)"
            ],
            [
             0.5,
             "rgb(247,247,247)"
            ],
            [
             0.6,
             "rgb(209,229,240)"
            ],
            [
             0.7,
             "rgb(146,197,222)"
            ],
            [
             0.8,
             "rgb(67,147,195)"
            ],
            [
             0.9,
             "rgb(33,102,172)"
            ],
            [
             1,
             "rgb(5,48,97)"
            ]
           ],
           "sequential": [
            [
             0,
             "#440154"
            ],
            [
             0.1111111111111111,
             "#482878"
            ],
            [
             0.2222222222222222,
             "#3e4989"
            ],
            [
             0.3333333333333333,
             "#31688e"
            ],
            [
             0.4444444444444444,
             "#26828e"
            ],
            [
             0.5555555555555556,
             "#1f9e89"
            ],
            [
             0.6666666666666666,
             "#35b779"
            ],
            [
             0.7777777777777778,
             "#6ece58"
            ],
            [
             0.8888888888888888,
             "#b5de2b"
            ],
            [
             1,
             "#fde725"
            ]
           ],
           "sequentialminus": [
            [
             0,
             "#440154"
            ],
            [
             0.1111111111111111,
             "#482878"
            ],
            [
             0.2222222222222222,
             "#3e4989"
            ],
            [
             0.3333333333333333,
             "#31688e"
            ],
            [
             0.4444444444444444,
             "#26828e"
            ],
            [
             0.5555555555555556,
             "#1f9e89"
            ],
            [
             0.6666666666666666,
             "#35b779"
            ],
            [
             0.7777777777777778,
             "#6ece58"
            ],
            [
             0.8888888888888888,
             "#b5de2b"
            ],
            [
             1,
             "#fde725"
            ]
           ]
          },
          "colorway": [
           "#1F77B4",
           "#FF7F0E",
           "#2CA02C",
           "#D62728",
           "#9467BD",
           "#8C564B",
           "#E377C2",
           "#7F7F7F",
           "#BCBD22",
           "#17BECF"
          ],
          "font": {
           "color": "rgb(36,36,36)",
           "family": "Arial"
          },
          "geo": {
           "bgcolor": "white",
           "lakecolor": "white",
           "landcolor": "white",
           "showlakes": true,
           "showland": true,
           "subunitcolor": "white"
          },
          "hoverlabel": {
           "align": "left"
          },
          "hovermode": "closest",
          "mapbox": {
           "style": "light"
          },
          "paper_bgcolor": "white",
          "plot_bgcolor": "white",
          "polar": {
           "angularaxis": {
            "gridcolor": "rgb(232,232,232)",
            "linecolor": "rgb(36,36,36)",
            "showgrid": false,
            "showline": true,
            "ticks": "outside"
           },
           "bgcolor": "white",
           "radialaxis": {
            "gridcolor": "rgb(232,232,232)",
            "linecolor": "rgb(36,36,36)",
            "showgrid": false,
            "showline": true,
            "ticks": "outside"
           }
          },
          "scene": {
           "xaxis": {
            "backgroundcolor": "white",
            "gridcolor": "rgb(232,232,232)",
            "gridwidth": 2,
            "linecolor": "rgb(36,36,36)",
            "showbackground": true,
            "showgrid": false,
            "showline": true,
            "ticks": "outside",
            "zeroline": false,
            "zerolinecolor": "rgb(36,36,36)"
           },
           "yaxis": {
            "backgroundcolor": "white",
            "gridcolor": "rgb(232,232,232)",
            "gridwidth": 2,
            "linecolor": "rgb(36,36,36)",
            "showbackground": true,
            "showgrid": false,
            "showline": true,
            "ticks": "outside",
            "zeroline": false,
            "zerolinecolor": "rgb(36,36,36)"
           },
           "zaxis": {
            "backgroundcolor": "white",
            "gridcolor": "rgb(232,232,232)",
            "gridwidth": 2,
            "linecolor": "rgb(36,36,36)",
            "showbackground": true,
            "showgrid": false,
            "showline": true,
            "ticks": "outside",
            "zeroline": false,
            "zerolinecolor": "rgb(36,36,36)"
           }
          },
          "shapedefaults": {
           "fillcolor": "black",
           "line": {
            "width": 0
           },
           "opacity": 0.3
          },
          "ternary": {
           "aaxis": {
            "gridcolor": "rgb(232,232,232)",
            "linecolor": "rgb(36,36,36)",
            "showgrid": false,
            "showline": true,
            "ticks": "outside"
           },
           "baxis": {
            "gridcolor": "rgb(232,232,232)",
            "linecolor": "rgb(36,36,36)",
            "showgrid": false,
            "showline": true,
            "ticks": "outside"
           },
           "bgcolor": "white",
           "caxis": {
            "gridcolor": "rgb(232,232,232)",
            "linecolor": "rgb(36,36,36)",
            "showgrid": false,
            "showline": true,
            "ticks": "outside"
           }
          },
          "title": {
           "x": 0.05
          },
          "xaxis": {
           "automargin": true,
           "gridcolor": "rgb(232,232,232)",
           "linecolor": "rgb(36,36,36)",
           "minor": {
            "showgrid": true
           },
           "mirror": true,
           "showgrid": true,
           "showline": true,
           "ticks": "outside",
           "title": {
            "standoff": 0
           },
           "zeroline": false,
           "zerolinecolor": "rgb(36,36,36)"
          },
          "yaxis": {
           "automargin": true,
           "gridcolor": "rgb(232,232,232)",
           "linecolor": "rgb(36,36,36)",
           "minor": {
            "showgrid": true
           },
           "mirror": true,
           "showgrid": true,
           "showline": true,
           "ticks": "outside",
           "title": {
            "standoff": 0
           },
           "zeroline": false,
           "zerolinecolor": "rgb(36,36,36)"
          }
         }
        },
        "xaxis": {
         "constrain": "domain",
         "range": [
          0,
          3426.5000000000005
         ],
         "title": {
          "text": "Normal Stress, kPa"
         }
        },
        "yaxis": {
         "constrain": "domain",
         "range": [
          0,
          1713.2500000000002
         ],
         "scaleanchor": "x",
         "scaleratio": 1,
         "title": {
          "text": "Shear Stress, kPa"
         }
        }
       }
      }
     },
     "metadata": {},
     "output_type": "display_data"
    }
   ],
   "source": [
    "from statistics import linear_regression\n",
    "\n",
    "import pandas as pd\n",
    "import numpy as np\n",
    "import plotly.express as px\n",
    "import plotly.graph_objects as go\n",
    "import plotly.io as pio\n",
    "\n",
    "# Set plotting template\n",
    "pio.templates[\"simple_white\"][\"layout\"][\"xaxis\"][\"mirror\"] = True\n",
    "pio.templates[\"simple_white\"][\"layout\"][\"yaxis\"][\"mirror\"] = True\n",
    "pio.templates[\"simple_white\"][\"layout\"][\"xaxis\"][\"showgrid\"] = True\n",
    "pio.templates[\"simple_white\"][\"layout\"][\"yaxis\"][\"showgrid\"] = True\n",
    "pio.templates[\"simple_white\"][\"layout\"][\"xaxis\"][\"minor\"][\"showgrid\"] = True\n",
    "pio.templates[\"simple_white\"][\"layout\"][\"yaxis\"][\"minor\"][\"showgrid\"] = True\n",
    "pio.templates[\"simple_white\"][\"layout\"][\"xaxis\"][\"title\"][\"standoff\"] = 0\n",
    "pio.templates[\"simple_white\"][\"layout\"][\"yaxis\"][\"title\"][\"standoff\"] = 0\n",
    "pio.templates[\"simple_white\"][\"layout\"][\"font\"][\"family\"] = \"Arial\"\n",
    "pio.templates.default = \"simple_white\"\n",
    "\n",
    "\n",
    "def get_mc_failure_envelope(minor_principal_stress: list, major_principal_stress: list):\n",
    "    center = [\n",
    "        (major_principal_stress[i] + minor_principal_stress[i]) / 2\n",
    "        for i in range(len(major_principal_stress))\n",
    "    ]\n",
    "    radius = [\n",
    "        (major_principal_stress[i] - minor_principal_stress[i]) / 2\n",
    "        for i in range(len(major_principal_stress))\n",
    "    ]\n",
    "    theta_range = np.linspace(0, 90, 900)\n",
    "    average_delta = []\n",
    "    storehouse = {}\n",
    "    for theta in theta_range:\n",
    "        x = [\n",
    "            center[i] - radius[i] * np.cos(np.deg2rad(theta))\n",
    "            for i in range(len(center))\n",
    "        ]\n",
    "        y = [radius[i] * np.sin(np.deg2rad(theta)) for i in range(len(center))]\n",
    "        if linear_regression(x, y)[1] < 0:\n",
    "            slope, y_intercept = linear_regression(x, y, proportional=True)\n",
    "        else:\n",
    "            slope, y_intercept = linear_regression(x, y, proportional=False)\n",
    "        average_delta.append(\n",
    "            np.mean(\n",
    "                [\n",
    "                    radius[i]\n",
    "                    - np.absolute(slope * center[i] + y_intercept)\n",
    "                    / np.sqrt(slope**2 + 1)\n",
    "                    for i in range(len(radius))\n",
    "                ]\n",
    "            )\n",
    "        )\n",
    "        storehouse[theta] = (slope, y_intercept)\n",
    "\n",
    "    theta_select = theta_range[average_delta.index((min(average_delta)))]\n",
    "    friction_angle = round(90 - theta_select, 1)\n",
    "    cohesion = round(storehouse[theta_select][1], 0)\n",
    "\n",
    "    return cohesion, friction_angle\n",
    "\n",
    "\n",
    "def default_triaxial_plot(units=\"kPa\", x_max=1000, y_max=500):\n",
    "    return (\n",
    "        go.Figure()\n",
    "        .update_xaxes(range=[0, x_max], constrain=\"domain\")\n",
    "        .update_yaxes(\n",
    "            range=[0, y_max],\n",
    "            scaleanchor=\"x\",\n",
    "            scaleratio=1,\n",
    "            constrain=\"domain\",\n",
    "        )\n",
    "        .update_layout(\n",
    "            margin=dict(t=40, b=20, l=20, r=20),\n",
    "            xaxis=dict(title=f\"Normal Stress, {units}\"),\n",
    "            yaxis=dict(title=f\"Shear Stress, {units}\"),\n",
    "        )\n",
    "    )\n",
    "\n",
    "\n",
    "def mohr_circle_plot(sigma1s, sigma3s, units=\"kPa\"):\n",
    "    x_max = max(sigma1s) * 1.1\n",
    "    y_max = x_max / 2\n",
    "    print(sigma3s)\n",
    "    fig = default_triaxial_plot(units=units, x_max=x_max, y_max=y_max)\n",
    "    for i in zip(sigma3s, sigma1s):\n",
    "        x0 = i[0]\n",
    "        x1 = i[1]\n",
    "        y0 = (x0 - x1) / 2\n",
    "        y1 = -y0\n",
    "        fig.add_shape(\n",
    "            type=\"circle\",\n",
    "            xref=\"x\",\n",
    "            yref=\"y\",\n",
    "            x0=x0,\n",
    "            y0=y0,\n",
    "            x1=x1,\n",
    "            y1=y1,\n",
    "            fillcolor=\"rgba(0,0,0,0)\",\n",
    "            opacity=1,\n",
    "            line=dict(\n",
    "                color=\"black\",\n",
    "                width=2,\n",
    "            ),\n",
    "        )\n",
    "    return fig\n",
    "\n",
    "\n",
    "def mc_failure_envelope(c, phi, x_max):\n",
    "    x = np.linspace(0, x_max)\n",
    "    m = np.tan(np.deg2rad(phi))\n",
    "    y = m * x + c\n",
    "    return x, y\n",
    "\n",
    "\n",
    "class TriaxialSampleSet:\n",
    "    def __init__(self, sample_id, test_type, stress_units):\n",
    "        self.id = sample_id\n",
    "        self.type = test_type\n",
    "        self.units = stress_units\n",
    "        self.specimens = []\n",
    "\n",
    "    def add_specimen(self, specimen):\n",
    "        self.specimens.append(specimen)\n",
    "        self.sigma1s = [specimen.sigma1 for specimen in self.specimens]\n",
    "        self.sigma3s = [specimen.sigma3 for specimen in self.specimens]\n",
    "\n",
    "    def plot_mc_failure_envelope(self):\n",
    "        fig = mohr_circle_plot(\n",
    "            sigma1s=self.sigma1s, sigma3s=self.sigma3s, units=self.units\n",
    "        )\n",
    "        failure_envelope = mc_failure_envelope(\n",
    "            get_mc_failure_envelope(self.sigma3s, self.sigma1s)[0],\n",
    "            get_mc_failure_envelope(self.sigma3s, self.sigma1s)[1],\n",
    "            max([specimen.sigma1 for specimen in self.specimens]) * 1.1,\n",
    "        )\n",
    "\n",
    "        return fig.add_trace(go.Scatter(x=failure_envelope[0], y=failure_envelope[1]))\n",
    "\n",
    "    def as_dict(self):\n",
    "        return {\n",
    "            \"id\": self.id,\n",
    "            \"type\": self.type,\n",
    "            \"specimens\": [s.as_dict() for s in self.specimens],\n",
    "        }\n",
    "\n",
    "\n",
    "class Specimen:\n",
    "    def __init__(self, specimen_id, sigma1, sigma3):\n",
    "        self.id = specimen_id\n",
    "        self.sigma1 = sigma1\n",
    "        self.sigma3 = sigma3\n",
    "\n",
    "    def as_dict(self):\n",
    "        return {\"id\": self.id, \"sigma1\": self.sigma1, \"sigma3\": self.sigma3}\n",
    "\n",
    "\n",
    "samples = {\"A\": (302, 1409), \"B\": (448, 2005), \"C\": (598, 3115)}\n",
    "\n",
    "sample_set = TriaxialSampleSet(\"MDS\", \"CU\", \"kPa\")\n",
    "\n",
    "\n",
    "for k, v in samples.items():\n",
    "    sample_set.add_specimen(Specimen(specimen_id=k, sigma1=v[1], sigma3=v[0]))\n",
    "\n",
    "sample_set.as_dict()\n",
    "\n",
    "sample_set.plot_mc_failure_envelope()\n"
   ]
  },
  {
   "cell_type": "code",
   "execution_count": null,
   "metadata": {},
   "outputs": [],
   "source": [
    "def get_mc_failure_envelope(minor_principal_stress: list, major_principal_stress: list):\n",
    "    center = [\n",
    "        (major_principal_stress[i] + minor_principal_stress[i]) / 2\n",
    "        for i in range(len(major_principal_stress))\n",
    "    ]\n",
    "    radius = [\n",
    "        (major_principal_stress[i] - minor_principal_stress[i]) / 2\n",
    "        for i in range(len(major_principal_stress))\n",
    "    ]\n",
    "    theta_range = np.linspace(0, 90, 900)\n",
    "    average_delta = []\n",
    "    storehouse = {}\n",
    "    for theta in theta_range:\n",
    "        x = [\n",
    "            center[i] - radius[i] * np.cos(np.deg2rad(theta))\n",
    "            for i in range(len(center))\n",
    "        ]\n",
    "        y = [radius[i] * np.sin(np.deg2rad(theta)) for i in range(len(center))]\n",
    "        if linear_regression(x, y)[1] < 0:\n",
    "            slope, y_intercept = linear_regression(x, y, proportional=True)\n",
    "        else:\n",
    "            slope, y_intercept = linear_regression(x, y, proportional=False)\n",
    "        average_delta.append(\n",
    "            np.mean(\n",
    "                [\n",
    "                    radius[i]\n",
    "                    - np.absolute(slope * center[i] + y_intercept)\n",
    "                    / np.sqrt(slope**2 + 1)\n",
    "                    for i in range(len(radius))\n",
    "                ]\n",
    "            )\n",
    "        )\n",
    "        storehouse[theta] = (slope, y_intercept)\n",
    "\n",
    "    theta_select = theta_range[average_delta.index((min(average_delta)))]\n",
    "    friction_angle = round(90 - theta_select, 1)\n",
    "    cohesion = round(storehouse[theta_select][1], 0)\n",
    "\n",
    "    return cohesion, friction_angle"
   ]
  }
 ],
 "metadata": {
  "kernelspec": {
   "display_name": "myenv",
   "language": "python",
   "name": "python3"
  },
  "language_info": {
   "codemirror_mode": {
    "name": "ipython",
    "version": 3
   },
   "file_extension": ".py",
   "mimetype": "text/x-python",
   "name": "python",
   "nbconvert_exporter": "python",
   "pygments_lexer": "ipython3",
   "version": "3.11.3"
  },
  "orig_nbformat": 4
 },
 "nbformat": 4,
 "nbformat_minor": 2
}
